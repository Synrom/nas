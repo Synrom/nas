{
 "cells": [
  {
   "cell_type": "code",
   "execution_count": 21,
   "id": "5befe537",
   "metadata": {},
   "outputs": [],
   "source": [
    "from collections import namedtuple\n",
    "\n",
    "Genotype = namedtuple(\"Genotype\", \"normal normal_concat reduce reduce_concat\")\n",
    "\n",
    "DARTS_V1 = Genotype(\n",
    "    normal=[\n",
    "        (\"sep_conv_3x3\", 1),\n",
    "        (\"sep_conv_3x3\", 0),\n",
    "        (\"skip_connect\", 0),\n",
    "        (\"sep_conv_3x3\", 1),\n",
    "        (\"skip_connect\", 0),\n",
    "        (\"sep_conv_3x3\", 1),\n",
    "        (\"sep_conv_3x3\", 0),\n",
    "        (\"skip_connect\", 2),\n",
    "    ],\n",
    "    normal_concat=[2, 3, 4, 5],\n",
    "    reduce=[\n",
    "        (\"max_pool_3x3\", 0),\n",
    "        (\"max_pool_3x3\", 1),\n",
    "        (\"skip_connect\", 2),\n",
    "        (\"max_pool_3x3\", 0),\n",
    "        (\"max_pool_3x3\", 0),\n",
    "        (\"skip_connect\", 2),\n",
    "        (\"skip_connect\", 2),\n",
    "        (\"avg_pool_3x3\", 0),\n",
    "    ],\n",
    "    reduce_concat=[2, 3, 4, 5],\n",
    ")\n",
    "DARTS_V2 = Genotype(\n",
    "    normal=[\n",
    "        (\"sep_conv_3x3\", 0),\n",
    "        (\"sep_conv_3x3\", 1),\n",
    "        (\"sep_conv_3x3\", 0),\n",
    "        (\"sep_conv_3x3\", 1),\n",
    "        (\"sep_conv_3x3\", 1),\n",
    "        (\"skip_connect\", 0),\n",
    "        (\"skip_connect\", 0),\n",
    "        (\"dil_conv_3x3\", 2),\n",
    "    ],\n",
    "    normal_concat=[2, 3, 4, 5],\n",
    "    reduce=[\n",
    "        (\"max_pool_3x3\", 0),\n",
    "        (\"max_pool_3x3\", 1),\n",
    "        (\"skip_connect\", 2),\n",
    "        (\"max_pool_3x3\", 1),\n",
    "        (\"max_pool_3x3\", 0),\n",
    "        (\"skip_connect\", 2),\n",
    "        (\"skip_connect\", 2),\n",
    "        (\"max_pool_3x3\", 1),\n",
    "    ],\n",
    "    reduce_concat=[2, 3, 4, 5],\n",
    ")\n",
    "\n",
    "\n",
    "op_names, indices = zip(*DARTS_V1.normal)"
   ]
  },
  {
   "cell_type": "code",
   "execution_count": 25,
   "id": "dffb2ee6",
   "metadata": {},
   "outputs": [
    {
     "name": "stdout",
     "output_type": "stream",
     "text": [
      "states[0] = sep_conv_3x3(<pre1>) + sep_conv_3x3(<pre0>)\n",
      "states[1] = skip_connect(<pre0>) + sep_conv_3x3(<pre1>)\n",
      "states[2] = skip_connect(<pre0>) + sep_conv_3x3(<pre1>)\n",
      "states[3] = sep_conv_3x3(<pre0>) + skip_connect(<node0>)\n"
     ]
    }
   ],
   "source": [
    "states = [\"<pre0>\", \"<pre1>\"]\n",
    "\n",
    "for i in range(len(op_names) // 2):\n",
    "    print(f\"states[{i}] = {op_names[2*i]}({states[indices[2*i]]}) + {op_names[2*i+1]}({states[indices[2*i+1]]})\")\n",
    "    states += [f\"<node{i}>\"]"
   ]
  }
 ],
 "metadata": {
  "kernelspec": {
   "display_name": ".venv",
   "language": "python",
   "name": "python3"
  },
  "language_info": {
   "codemirror_mode": {
    "name": "ipython",
    "version": 3
   },
   "file_extension": ".py",
   "mimetype": "text/x-python",
   "name": "python",
   "nbconvert_exporter": "python",
   "pygments_lexer": "ipython3",
   "version": "3.13.2"
  }
 },
 "nbformat": 4,
 "nbformat_minor": 5
}
